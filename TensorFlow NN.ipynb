{
 "cells": [
  {
   "cell_type": "code",
   "execution_count": 16,
   "id": "39fde29d",
   "metadata": {},
   "outputs": [
    {
     "name": "stdout",
     "output_type": "stream",
     "text": [
      "El shape de las imagenes de entrenamiento es: (60000, 28, 28)\n",
      "El shape de las salidas de entrenamiento es: (60000,)\n",
      "El shape de las imagenes de prueba es: (10000, 28, 28)\n",
      "El shape de las salidas de prueba es: (10000,)\n"
     ]
    }
   ],
   "source": [
    "import tensorflow as tf\n",
    "from tensorflow import keras\n",
    "\n",
    "import numpy as np\n",
    "import matplotlib.pyplot as plt\n",
    "\n",
    "fashion_mnist = keras.datasets.fashion_mnist #Load dataset\n",
    "(train_images, train_labels),(test_images, test_labels) = fashion_mnist.load_data() #Separate the dataset in tuples for training and test.\n",
    "\n",
    "print(f\"El shape de las imagenes de entrenamiento es: {train_images.shape}\")\n",
    "print(f\"El shape de las salidas de entrenamiento es: {train_labels.shape}\")\n",
    "print(f\"El shape de las imagenes de prueba es: {test_images.shape}\")\n",
    "print(f\"El shape de las salidas de prueba es: {test_labels.shape}\")\n",
    "\n",
    "#Preprocessing ...\n",
    "class_names = ['T-Shirt/top','Trouser','Pullover','Dress','Coat',\n",
    "               'Sandal','Shirt','Sneaker','Bag',' Ankle Boot']\n",
    "train_images = train_images / 255.0\n",
    "test_images = test_images / 255.0\n",
    "\n",
    "\n"
   ]
  },
  {
   "cell_type": "code",
   "execution_count": 17,
   "id": "02b83cbb",
   "metadata": {},
   "outputs": [],
   "source": [
    "\n",
    "    model = keras.Sequential([#Keras.Sequential Indica la forma de la red neuronal, la info va desde el principio hasta el final de la red neuronal, no es recurrente, ni convolucional, ni nada de eso... \n",
    "        keras.layers.Flatten(input_shape=(28,28)),#Esta capa lo que hace es tomar los 28x28 pixeles y convertirlos en una columna de 784 datos para este caso. Flatten = Aplanar\n",
    "        keras.layers.Dense(128,activation='relu'),    #----En estos 3 renglones se defiene las capas de la red \n",
    "        keras.layers.Dense(10,activation='softmax') # softmax = sigmoid\n",
    "    ])\n",
    "   \n"
   ]
  },
  {
   "cell_type": "code",
   "execution_count": 18,
   "id": "5c14e06b",
   "metadata": {},
   "outputs": [
    {
     "name": "stdout",
     "output_type": "stream",
     "text": [
      "Epoch 1/10\n",
      "1875/1875 [==============================] - 5s 3ms/step - loss: 0.4966 - accuracy: 0.8262\n",
      "Epoch 2/10\n",
      "1875/1875 [==============================] - 5s 3ms/step - loss: 0.3741 - accuracy: 0.8654\n",
      "Epoch 3/10\n",
      "1875/1875 [==============================] - 5s 3ms/step - loss: 0.3347 - accuracy: 0.8773\n",
      "Epoch 4/10\n",
      "1875/1875 [==============================] - 5s 3ms/step - loss: 0.3126 - accuracy: 0.8849\n",
      "Epoch 5/10\n",
      "1875/1875 [==============================] - 5s 3ms/step - loss: 0.2972 - accuracy: 0.8895\n",
      "Epoch 6/10\n",
      "1875/1875 [==============================] - 5s 3ms/step - loss: 0.2811 - accuracy: 0.8972\n",
      "Epoch 7/10\n",
      "1875/1875 [==============================] - 5s 3ms/step - loss: 0.2686 - accuracy: 0.9006\n",
      "Epoch 8/10\n",
      "1875/1875 [==============================] - 5s 3ms/step - loss: 0.2571 - accuracy: 0.9041\n",
      "Epoch 9/10\n",
      "1875/1875 [==============================] - 5s 2ms/step - loss: 0.2477 - accuracy: 0.9080\n",
      "Epoch 10/10\n",
      "1875/1875 [==============================] - 5s 3ms/step - loss: 0.2392 - accuracy: 0.9106\n"
     ]
    },
    {
     "data": {
      "text/plain": [
       "<keras.callbacks.History at 0x20e5f55a7f0>"
      ]
     },
     "execution_count": 18,
     "metadata": {},
     "output_type": "execute_result"
    }
   ],
   "source": [
    "model.compile(optimizer='adam', \n",
    "              loss='sparse_categorical_crossentropy',\n",
    "              metrics=['accuracy'])\n",
    "model.fit(train_images, train_labels, epochs=10)"
   ]
  },
  {
   "cell_type": "code",
   "execution_count": 19,
   "id": "c81a0fcc",
   "metadata": {},
   "outputs": [
    {
     "name": "stdout",
     "output_type": "stream",
     "text": [
      "313/313 [==============================] - 1s 2ms/step - loss: 0.3401 - accuracy: 0.8812\n",
      "Test accuracy = 0.8812000155448914\n"
     ]
    }
   ],
   "source": [
    "test_loss, test_acc = model.evaluate(test_images,test_labels,verbose=1)\n",
    "print(f\"Test accuracy = {test_acc}\")"
   ]
  },
  {
   "cell_type": "code",
   "execution_count": 61,
   "id": "a33c9601",
   "metadata": {},
   "outputs": [
    {
     "name": "stdout",
     "output_type": "stream",
     "text": [
      "313/313 [==============================] - 1s 2ms/step\n",
      "[4.5231790e-08 1.3191540e-10 1.7537008e-08 1.0413535e-10 8.6134042e-07\n",
      " 8.1575732e-11 1.7580670e-09 2.8107818e-09 9.9999905e-01 2.0907987e-11]\n",
      "8\n"
     ]
    }
   ],
   "source": [
    "predictions = model.predict(test_images)\n",
    "num_pred = 2000\n",
    "print(predictions[num_pred])\n",
    "index = np.argmax(predictions[num_pred])\n",
    "print(index)"
   ]
  },
  {
   "cell_type": "code",
   "execution_count": 62,
   "id": "0cf748eb",
   "metadata": {},
   "outputs": [
    {
     "name": "stdout",
     "output_type": "stream",
     "text": [
      "This is the neural network input:\n"
     ]
    },
    {
     "data": {
      "image/png": "[encoded data removed]",
      "text/plain": [
       "<Figure size 640x480 with 2 Axes>"
      ]
     },
     "metadata": {},
     "output_type": "display_data"
    },
    {
     "name": "stdout",
     "output_type": "stream",
     "text": [
      " The neural network classify it as a: Bag\n"
     ]
    }
   ],
   "source": [
    "\n",
    "print(\"This is the neural network input:\")\n",
    "plt.figure()\n",
    "plt.imshow(test_images[num_pred])\n",
    "plt.colorbar()\n",
    "plt.grid(False)\n",
    "plt.show()\n",
    "\n",
    "print(f\" The neural network classify it as a: {class_names[index]}\")"
   ]
  },
  {
   "cell_type": "code",
   "execution_count": null,
   "id": "aabfb557",
   "metadata": {},
   "outputs": [],
   "source": []
  }
 ],
 "metadata": {
  "kernelspec": {
   "display_name": "Python 3 (ipykernel)",
   "language": "python",
   "name": "python3"
  },
  "language_info": {
   "codemirror_mode": {
    "name": "ipython",
    "version": 3
   },
   "file_extension": ".py",
   "mimetype": "text/x-python",
   "name": "python",
   "nbconvert_exporter": "python",
   "pygments_lexer": "ipython3",
   "version": "3.9.13"
  }
 },
 "nbformat": 4,
 "nbformat_minor": 5
}
